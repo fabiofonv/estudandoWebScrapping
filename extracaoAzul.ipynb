{
 "cells": [
  {
   "metadata": {
    "ExecuteTime": {
     "end_time": "2025-09-02T18:18:02.210444Z",
     "start_time": "2025-09-02T18:18:02.203421Z"
    }
   },
   "cell_type": "code",
   "source": [
    "import time\n",
    "import re\n",
    "from selenium import webdriver\n",
    "from selenium.webdriver.common.by import By\n",
    "from selenium.webdriver.chrome.service import Service\n",
    "from bs4 import BeautifulSoup"
   ],
   "id": "3858da8b82a4a783",
   "outputs": [],
   "execution_count": 5
  },
  {
   "metadata": {
    "collapsed": true,
    "ExecuteTime": {
     "end_time": "2025-09-02T18:13:33.342436Z",
     "start_time": "2025-09-02T18:13:33.336074Z"
    }
   },
   "cell_type": "code",
   "source": [
    "def gerar_url_voo_azul(mes, dia):\n",
    "  \"\"\"Gera a URL de busca para uma data específica.\"\"\"\n",
    "  url_modelo = f\"https://www.voeazul.com.br/br/pt/home/selecao-voo?c[0].ds=CPV&c[0].std={mes}/{dia}/2025&c[0].as=BSB&p[0].t=ADT&p[0].c=2&p[0].cp=false&f.dl=3&f.dr=3&cc=PTS\"\n",
    "  return url_modelo"
   ],
   "id": "initial_id",
   "outputs": [],
   "execution_count": 2
  },
  {
   "metadata": {
    "ExecuteTime": {
     "end_time": "2025-09-02T18:18:22.599402Z",
     "start_time": "2025-09-02T18:18:22.584569Z"
    }
   },
   "cell_type": "code",
   "source": [
    "def extrair_dados_voo(url):\n",
    "  \"\"\"\n",
    "  Acessa a URL com Selenium e extrai informações dos voos.\n",
    "  \"\"\"\n",
    "  # PARTE 1: Configuração do Selenium\n",
    "  # Certifique-se de que o caminho para o chromedriver está correto\n",
    "  service = Service()\n",
    "  options = webdriver.ChromeOptions()\n",
    "  # options.add_argument('--headless') # Descomente para rodar sem abrir uma janela do navegador\n",
    "  driver = webdriver.Chrome(service=service, options=options)\n",
    "\n",
    "  print(f\"Acessando a página: {url}\")\n",
    "  driver.get(url)\n",
    "\n",
    "  # PARTE 2: Esperar a página carregar\n",
    "  # Sites de voos carregam preços dinamicamente. Precisamos esperar.\n",
    "  # Este tempo de espera (15s) é um chute, pode precisar de mais ou menos.\n",
    "  print(\"Aguardando o carregamento dos preços...\")\n",
    "  time.sleep(15)\n",
    "\n",
    "  # PARTE 3: Extração dos Dados\n",
    "  # Esta é a parte que você precisará adaptar.\n",
    "  # Você deve usar o \"Inspecionar Elemento\" do seu navegador para descobrir\n",
    "  # as classes, IDs ou tags dos elementos que contêm o preço e o horário.\n",
    "\n",
    "  # Exemplo hipotético de como seria:\n",
    "  try:\n",
    "    # Pega todo o HTML da página depois que o JavaScript carregou tudo\n",
    "    page_content = driver.page_source\n",
    "    soup = BeautifulSoup(page_content, 'html.parser')\n",
    "\n",
    "    # Encontra todos os 'cards' de voos. A classe '.flight-card' é um EXEMPLO.\n",
    "    voos = soup.find_all('div', class_=re.compile('flight-card')) # <-- MUDE ESSA CLASSE\n",
    "\n",
    "    if not voos:\n",
    "      print(\"Nenhum voo encontrado. Verifique a classe do container dos voos.\")\n",
    "      print(\"Dica: A página pode ter um popup ou aviso que impede o carregamento.\")\n",
    "\n",
    "    print(f\"Encontrados {len(voos)} voos.\\n\")\n",
    "\n",
    "    for voo in voos:\n",
    "      # Exemplo para extrair horário e preço. As classes são HIPOTÉTICAS.\n",
    "      # Você PRECISA inspecionar o site para encontrar as classes corretas.\n",
    "      horario_partida = voo.find('span', class_='departure-time') # <-- MUDE ESSA CLASSE\n",
    "      preco_pontos = voo.find('span', class_='price-points')     # <-- MUDE ESSA CLASSE\n",
    "\n",
    "      if horario_partida and preco_pontos:\n",
    "        print(f\"Horário: {horario_partida.text.strip()} | Preço: {preco_pontos.text.strip()} pontos\")\n",
    "\n",
    "  except Exception as e:\n",
    "    print(f\"Ocorreu um erro ao extrair os dados: {e}\")\n",
    "\n",
    "  finally:\n",
    "    # Fecha o navegador\n",
    "    driver.quit()"
   ],
   "id": "a113dde4d812b36e",
   "outputs": [],
   "execution_count": 6
  },
  {
   "metadata": {
    "ExecuteTime": {
     "end_time": "2025-09-02T18:20:48.353364Z",
     "start_time": "2025-09-02T18:20:00.254847Z"
    }
   },
   "cell_type": "code",
   "source": [
    "mes_desejado = \"10\"\n",
    "dia_desejado = \"25\"\n",
    "url_alvo = gerar_url_voo_azul(mes_desejado, dia_desejado)\n",
    "\n",
    "extrair_dados_voo(url_alvo)"
   ],
   "id": "26831abb3b902d96",
   "outputs": [
    {
     "name": "stdout",
     "output_type": "stream",
     "text": [
      "Acessando a página: https://www.voeazul.com.br/br/pt/home/selecao-voo?c[0].ds=CPV&c[0].std=10/25/2025&c[0].as=BSB&p[0].t=ADT&p[0].c=2&p[0].cp=false&f.dl=3&f.dr=3&cc=PTS\n",
      "Aguardando o carregamento dos preços...\n",
      "Nenhum voo encontrado. Verifique a classe do container dos voos.\n",
      "Dica: A página pode ter um popup ou aviso que impede o carregamento.\n",
      "Encontrados 0 voos.\n",
      "\n"
     ]
    }
   ],
   "execution_count": 9
  },
  {
   "metadata": {},
   "cell_type": "code",
   "outputs": [],
   "execution_count": null,
   "source": "",
   "id": "bfe5f8a1b2edefdc"
  }
 ],
 "metadata": {
  "kernelspec": {
   "display_name": "Python 3",
   "language": "python",
   "name": "python3"
  },
  "language_info": {
   "codemirror_mode": {
    "name": "ipython",
    "version": 2
   },
   "file_extension": ".py",
   "mimetype": "text/x-python",
   "name": "python",
   "nbconvert_exporter": "python",
   "pygments_lexer": "ipython2",
   "version": "2.7.6"
  }
 },
 "nbformat": 4,
 "nbformat_minor": 5
}
